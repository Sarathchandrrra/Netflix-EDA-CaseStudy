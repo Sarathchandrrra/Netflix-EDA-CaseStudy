{
 "cells": [
  {
   "cell_type": "markdown",
   "id": "f66a8f57",
   "metadata": {},
   "source": [
    "# Netflix Case Study: Viewer Behavior & Content Strategy\n",
    "\n",
    "A comprehensive analysis of Netflix’s content catalog using Python, exploring content types, genres, countries, and trends over time.\n"
   ]
  },
  {
   "cell_type": "markdown",
   "id": "2d1b4728",
   "metadata": {},
   "source": [
    "## Project Objective\n",
    "To uncover insights from Netflix’s dataset that inform content strategy and viewer engagement.\n",
    "\n",
    "Specifically, we will:\n",
    "1. Load and clean the dataset robustly.\n",
    "2. Perform exploratory data analysis (EDA) on content types, genres, and countries.\n",
    "3. Visualize trends in content addition over time.\n",
    "4. Identify top actors and understand duration/season distributions.\n",
    "5. Provide business recommendations based on findings.\n"
   ]
  },
  {
   "cell_type": "markdown",
   "id": "085d0b9f",
   "metadata": {},
   "source": [
    "## Dataset & Environment Setup\n",
    "Ensure you have the `netflix_title.csv` file in the same directory as this notebook. If not, download it from the provided Google Drive link or run the cell below in Colab.\n"
   ]
  },
  {
   "cell_type": "code",
   "execution_count": null,
   "id": "76c146d4",
   "metadata": {},
   "outputs": [],
   "source": [
    "import os\n",
    "import pandas as pd\n",
    "import numpy as np\n",
    "\n",
    "DATA_FILENAME = 'netflix_title.csv'\n",
    "if not os.path.exists(DATA_FILENAME):\n",
    "    try:\n",
    "        # Attempt to download if using Colab environment\n",
    "        get_ipython().system('wget \"https://drive.google.com/uc?export=download&id=1-qDO7oNwzQn0RV44YtpqWdYS4SO3GkQg\" -O netflix_title.csv')\n",
    "        print(f\"Downloaded {DATA_FILENAME} via wget.\")\n",
    "    except Exception:\n",
    "        raise FileNotFoundError(\n",
    "            f\"{DATA_FILENAME} not found locally. Please download it from the Google Drive link and place it here.\")\n",
    "else:\n",
    "    print(f\"✅ Found {DATA_FILENAME} locally.\")\n",
    "\n",
    "# Load dataset\n",
    "df = pd.read_csv(DATA_FILENAME)\n",
    "print(f\"Dataset loaded with {len(df)} rows and {len(df.columns)} columns.\")"
   ]
  },
  {
   "cell_type": "markdown",
   "id": "f08069c3",
   "metadata": {},
   "source": [
    "## Initial Data Inspection\n",
    "Check the first few rows, shape, and column info to understand dataset structure.\n"
   ]
  },
  {
   "cell_type": "code",
   "execution_count": null,
   "id": "65b9548d",
   "metadata": {},
   "outputs": [],
   "source": [
    "# Preview head\n",
    "df.head()\n"
   ]
  },
  {
   "cell_type": "code",
   "execution_count": null,
   "id": "9c2c961e",
   "metadata": {},
   "outputs": [],
   "source": [
    "# Shape of the dataset\n",
    "rows, cols = df.shape\n",
    "print(f\"Dataset contains {rows} rows and {cols} columns.\")"
   ]
  },
  {
   "cell_type": "code",
   "execution_count": null,
   "id": "b4c843c7",
   "metadata": {},
   "outputs": [],
   "source": [
    "# Column information and data types\n",
    "df.info()\n"
   ]
  },
  {
   "cell_type": "code",
   "execution_count": null,
   "id": "072a61e7",
   "metadata": {},
   "outputs": [],
   "source": [
    "# Descriptive statistics for object (text) columns\n",
    "df.describe(include='object')\n"
   ]
  },
  {
   "cell_type": "markdown",
   "id": "1963bbac",
   "metadata": {},
   "source": [
    "## Handling Missing Values\n",
    "Identify missing values in key columns (`rating`, `duration`, `date_added`) and decide on dropping or filling.\n"
   ]
  },
  {
   "cell_type": "code",
   "execution_count": null,
   "id": "20a234b8",
   "metadata": {},
   "outputs": [],
   "source": [
    "# Count missing values in key columns\n",
    "initial_count = len(df)\n",
    "missing_rating = df['rating'].isna().sum()\n",
    "missing_duration = df['duration'].isna().sum()\n",
    "missing_date = df['date_added'].isna().sum()\n",
    "print(f\"Missing 'rating': {missing_rating} rows\")\n",
    "print(f\"Missing 'duration': {missing_duration} rows\")\n",
    "print(f\"Missing 'date_added': {missing_date} rows\")\n",
    "\n",
    "# Drop rows where any of these key fields is missing\n",
    "df = df.dropna(subset=['rating', 'duration', 'date_added'])\n",
    "dropped = initial_count - len(df)\n",
    "print(f\"Dropped {dropped} rows ({dropped/initial_count:.1%} of the dataset)\")\n",
    "\n",
    "# Fill less critical nulls\n",
    "df['country'] = df['country'].fillna('No Data')\n",
    "df['cast'] = df['cast'].fillna('No Data')\n",
    "df['director'] = df['director'].fillna('No Data')\n",
    "\n",
    "# Final null check\n",
    "print(\"Remaining nulls per column:\")\n",
    "print(df.isnull().sum())"
   ]
  },
  {
   "cell_type": "markdown",
   "id": "b0bfec6a",
   "metadata": {},
   "source": [
    "## Parsing Dates and Extracting Time Features\n",
    "Convert `date_added` to datetime with error handling and extract year/month/day.\n"
   ]
  },
  {
   "cell_type": "code",
   "execution_count": null,
   "id": "e2cfba08",
   "metadata": {},
   "outputs": [],
   "source": [
    "import warnings\n",
    "warnings.filterwarnings('ignore')\n",
    "\n",
    "# Attempt to parse date_added with known format; coerce errors\n",
    "df['date_added'] = pd.to_datetime(df['date_added'], format='%B %d, %Y', errors='coerce')\n",
    "failed_dates = df['date_added'].isna().sum()\n",
    "print(f\"Failed to parse {failed_dates} dates.\")\n",
    "\n",
    "if failed_dates > 0:\n",
    "    display(df.loc[df['date_added'].isna(), ['title', 'date_added']].head())\n",
    "\n",
    "# Drop rows where date parsing failed (if any)\n",
    "df = df.dropna(subset=['date_added'])\n",
    "\n",
    "# Extract year, month, day\n",
    "df['added_year'] = df['date_added'].dt.year\n",
    "df['added_month'] = df['date_added'].dt.month\n",
    "df['added_day'] = df['date_added'].dt.day\n",
    "\n",
    "df.head(3)"
   ]
  },
  {
   "cell_type": "markdown",
   "id": "8732641e",
   "metadata": {},
   "source": [
    "## Content Type Distribution (Movies vs TV Shows)\n",
    "Visualize the percentage and count of Movies vs TV Shows.\n"
   ]
  },
  {
   "cell_type": "code",
   "execution_count": null,
   "id": "499e1f66",
   "metadata": {},
   "outputs": [],
   "source": [
    "# Prepare DataFrame for plotting proportions\n",
    "type_df = df['type'].value_counts(normalize=True).reset_index()\n",
    "type_df.columns = ['type', 'percent']\n",
    "type_df['count'] = df['type'].value_counts().values\n",
    "\n",
    "import matplotlib.pyplot as plt\n",
    "import seaborn as sns\n",
    "\n",
    "plt.figure(figsize=(6, 4))\n",
    "ax = sns.barplot(data=type_df, x='type', y='percent', palette='Set2')\n",
    "\n",
    "# Annotate bars\n",
    "for idx, row in type_df.iterrows():\n",
    "    ax.text(idx, row['percent'] + 0.01, f\"{int(row['count'])} ({row['percent']:.1%})\", ha='center', va='bottom', fontsize=10)\n",
    "\n",
    "plt.title(\"Content Type Distribution on Netflix\")\n",
    "plt.ylabel(\"Percentage of Total Titles\")\n",
    "plt.ylim(0, type_df['percent'].max() + 0.1)\n",
    "plt.grid(axis='y', linestyle='--', alpha=0.5)\n",
    "plt.tight_layout()\n",
    "plt.show()"
   ]
  },
  {
   "cell_type": "markdown",
   "id": "52cb96f4",
   "metadata": {},
   "source": [
    "## Country and Genre Analysis\n",
    "1) Count unique countries; 2) Top 10 countries by number of titles; 3) Top 10 genres.\n"
   ]
  },
  {
   "cell_type": "code",
   "execution_count": null,
   "id": "00b26509",
   "metadata": {},
   "outputs": [],
   "source": [
    "# Unique countries count\n",
    "unique_countries = df['country'].nunique()\n",
    "print(f\"Netflix content spans across {unique_countries} unique countries.\")\n",
    "\n",
    "# Top 10 countries by title count\n",
    "top_countries = df['country'].value_counts().head(10)\n",
    "plt.figure(figsize=(8, 5))\n",
    "sns.barplot(x=top_countries.values, y=top_countries.index, palette='coolwarm')\n",
    "plt.title(\"Top 10 Countries with Most Content on Netflix\")\n",
    "plt.xlabel(\"Number of Titles\")\n",
    "plt.ylabel(\"Country\")\n",
    "plt.grid(axis='x', linestyle='--', alpha=0.4)\n",
    "plt.tight_layout()\n",
    "plt.show()\n",
    "\n",
    "# Genre breakdown using robust splitting\n",
    "from collections import Counter\n",
    "all_genres = []\n",
    "for cell in df['listed_in'].dropna():\n",
    "    for genre in cell.split(','):\n",
    "        all_genres.append(genre.strip())\n",
    "top10_genres = Counter(all_genres).most_common(10)\n",
    "genre_df = pd.DataFrame(top10_genres, columns=['genre', 'count'])\n",
    "\n",
    "plt.figure(figsize=(9, 5))\n",
    "ax = sns.barplot(x='count', y='genre', data=genre_df, palette='mako')\n",
    "plt.title(\"Top 10 Genres on Netflix\")\n",
    "plt.xlabel(\"Number of Titles\")\n",
    "plt.ylabel(\"Genre\")\n",
    "for index, row in genre_df.iterrows():\n",
    "    ax.text(row['count'] + 3, index, str(row['count']), va='center')\n",
    "plt.tight_layout()\n",
    "plt.show()"
   ]
  },
  {
   "cell_type": "markdown",
   "id": "e87e55d6",
   "metadata": {},
   "source": [
    "## Duration Analysis for Movies\n",
    "Parse movie durations (only those ending with 'min') and plot distribution.\n"
   ]
  },
  {
   "cell_type": "code",
   "execution_count": null,
   "id": "32604916",
   "metadata": {},
   "outputs": [],
   "source": [
    "# Extract durations (in minutes) for Movies only\n",
    "import numpy as np\n",
    "df_movies = df[df['type'] == 'Movie'].copy()\n",
    "def parse_movie_duration(x):\n",
    "    if isinstance(x, str) and x.strip().endswith('min'):\n",
    "        return float(x.strip().split()[0])\n",
    "    else:\n",
    "        return np.nan\n",
    "df_movies['duration_int'] = df_movies['duration'].apply(parse_movie_duration)\n",
    "bad_durations = df_movies['duration_int'].isna().sum()\n",
    "print(f\"⚠️ {bad_durations} Movie rows have unexpected duration format.\")\n",
    "df_movies = df_movies.dropna(subset=['duration_int'])\n",
    "\n",
    "plt.figure(figsize=(8, 5))\n",
    "sns.histplot(df_movies['duration_int'], bins=30, kde=True, color='tomato')\n",
    "plt.title(\"Distribution of Movie Durations (minutes)\")\n",
    "plt.xlabel(\"Duration (minutes)\")\n",
    "plt.ylabel(\"Frequency\")\n",
    "plt.grid(axis='y', linestyle='--', alpha=0.4)\n",
    "plt.tight_layout()\n",
    "plt.show()"
   ]
  },
  {
   "cell_type": "markdown",
   "id": "e4f044eb",
   "metadata": {},
   "source": [
    "## Season Analysis for TV Shows\n",
    "Parse TV show durations to extract number of seasons, handling unexpected formats.\n"
   ]
  },
  {
   "cell_type": "code",
   "execution_count": null,
   "id": "f47c6c5f",
   "metadata": {},
   "outputs": [],
   "source": [
    "df_shows = df[df['type'] == 'TV Show'].copy()\n",
    "def parse_seasons(x):\n",
    "    import numpy as np\n",
    "    if isinstance(x, str) and 'Season' in x:\n",
    "        num = x.split()[0]\n",
    "        try:\n",
    "            return int(num)\n",
    "        except ValueError:\n",
    "            return np.nan\n",
    "    return np.nan\n",
    "df_shows['seasons'] = df_shows['duration'].apply(parse_seasons)\n",
    "fail_count = df_shows['seasons'].isna().sum()\n",
    "print(f\"⚠️ Unable to parse seasons for {fail_count} TV Show rows.\")\n",
    "df_shows = df_shows.dropna(subset=['seasons'])\n",
    "\n",
    "plt.figure(figsize=(8, 5))\n",
    "sns.countplot(x='seasons', data=df_shows, palette='crest')\n",
    "plt.title(\"Number of Seasons in Netflix TV Shows\")\n",
    "plt.xlabel(\"Number of Seasons\")\n",
    "plt.ylabel(\"Count of Shows\")\n",
    "plt.grid(axis='y', linestyle='--', alpha=0.3)\n",
    "plt.tight_layout()\n",
    "plt.show()"
   ]
  },
  {
   "cell_type": "markdown",
   "id": "d37ccb5c",
   "metadata": {},
   "source": [
    "## Trends Over Time\n",
    "Visualize how many titles were added each year and each month.\n"
   ]
  },
  {
   "cell_type": "code",
   "execution_count": null,
   "id": "5394034d",
   "metadata": {},
   "outputs": [],
   "source": [
    "plt.figure(figsize=(10, 5))\n",
    "sns.countplot(x='added_year', data=df, palette='rocket', order=sorted(df['added_year'].dropna().unique()))\n",
    "plt.title(\"Netflix Titles Added by Year\")\n",
    "plt.xlabel(\"Year Added\")\n",
    "plt.ylabel(\"Number of Titles\")\n",
    "plt.xticks(rotation=45)\n",
    "plt.grid(axis='y', linestyle='--', alpha=0.4)\n",
    "plt.tight_layout()\n",
    "plt.show()\n",
    "\n",
    "plt.figure(figsize=(9, 5))\n",
    "sns.countplot(x='added_month', data=df, palette='flare')\n",
    "plt.title(\"Netflix Content Added by Month\")\n",
    "plt.xlabel(\"Month\")\n",
    "plt.ylabel(\"Number of Titles\")\n",
    "plt.grid(axis='y', linestyle='--', alpha=0.3)\n",
    "plt.tight_layout()\n",
    "plt.show()"
   ]
  },
  {
   "cell_type": "markdown",
   "id": "a5c712e3",
   "metadata": {},
   "source": [
    "## Top Actors/Actresses\n",
    "Count most frequently appearing cast members in the dataset.\n"
   ]
  },
  {
   "cell_type": "code",
   "execution_count": null,
   "id": "2cd0d2ef",
   "metadata": {},
   "outputs": [],
   "source": [
    "from collections import Counter\n",
    "cast_series = df['cast'].dropna().str.split(', ')\n",
    "flat_cast_list = [actor.strip() for sublist in cast_series for actor in sublist]\n",
    "top_actors = Counter(flat_cast_list).most_common(10)\n",
    "top_actors_df = pd.DataFrame(top_actors, columns=['Actor', 'Count'])\n",
    "\n",
    "plt.figure(figsize=(9, 5))\n",
    "ax = sns.barplot(y='Actor', x='Count', data=top_actors_df, palette='viridis')\n",
    "plt.title(\"Top 10 Most Featured Actors on Netflix\")\n",
    "plt.xlabel(\"Number of Appearances\")\n",
    "plt.ylabel(\"Actor Name\")\n",
    "plt.grid(axis='x', linestyle='--', alpha=0.4)\n",
    "plt.tight_layout()\n",
    "plt.show()"
   ]
  },
  {
   "cell_type": "markdown",
   "id": "f9cc217d",
   "metadata": {},
   "source": [
    "## Word Cloud of Titles\n",
    "Create a word cloud of the most common words in Netflix titles. Make sure `wordcloud` is installed (`pip install wordcloud`).\n"
   ]
  },
  {
   "cell_type": "code",
   "execution_count": null,
   "id": "41cb8384",
   "metadata": {},
   "outputs": [],
   "source": [
    "try:\n",
    "    from wordcloud import WordCloud\n",
    "except ImportError:\n",
    "    raise ImportError(\"Install the 'wordcloud' package: pip install wordcloud\")\n",
    "\n",
    "text = ' '.join(df['title'].dropna().tolist())\n",
    "wordcloud = WordCloud(width=1000, height=500, background_color='black', colormap='spring').generate(text)\n",
    "\n",
    "plt.figure(figsize=(15, 6))\n",
    "plt.imshow(wordcloud, interpolation='bilinear')\n",
    "plt.axis('off')\n",
    "plt.title('Most Common Words in Netflix Titles')\n",
    "plt.tight_layout(pad=0)\n",
    "plt.show()"
   ]
  },
  {
   "cell_type": "markdown",
   "id": "4550429b",
   "metadata": {},
   "source": [
    "## Summary & Business Recommendations\n",
    "In this analysis, we set out to:\n",
    "1. Understand Movie vs TV Show proportions.\n",
    "2. Identify top genres and key producing countries.\n",
    "3. Observe historical trends in content addition.\n",
    "4. Discover frequently featured actors.\n",
    "\n",
    "**Key Findings:**\n",
    "- Netflix’s library skews toward Movies, but single‐season TV shows grew significantly in recent years.\n",
    "- Drama and Comedy are the top genres; the U.S. produces most content, followed by India, Japan, and the UK.\n",
    "- A major spike in content occurred between 2018–2020 as Netflix expanded globally.\n",
    "- A handful of actors appear repeatedly, suggesting possible exclusive partnerships.\n",
    "\n",
    "**Recommendations:**\n",
    "1. Maintain a balanced mix of Movies and multi‐season series to improve viewer retention.\n",
    "2. Invest in local content production in high‐growth markets (e.g., India, South Korea).\n",
    "3. Negotiate exclusive deals with top local and global actors to differentiate content.\n",
    "\n",
    "Prepared by Sarath for portfolio. All data from a public Netflix dataset."
   ]
  }
 ],
 "metadata": {
  "language_info": {
   "name": "python"
  }
 },
 "nbformat": 4,
 "nbformat_minor": 5
}
